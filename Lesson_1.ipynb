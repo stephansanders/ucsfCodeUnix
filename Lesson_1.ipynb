{
 "cells": [
  {
   "cell_type": "markdown",
   "metadata": {},
   "source": [
    "# Welcome to Coding for Pirates!\n",
    "\n",
    "This course is a basic introduction to UNIX and Python for UCSF scientists and contains some truly dreadful pirate themed puns and out of date film references."
   ]
  },
  {
   "cell_type": "markdown",
   "metadata": {},
   "source": [
    "You're currently looking at a Jupyter Notebook, which is an efficient way to explore data and keep a record of what you've done. It is a mixture of text (like this, called markdown) and code (see the next box)."
   ]
  },
  {
   "cell_type": "code",
   "execution_count": 10,
   "metadata": {},
   "outputs": [
    {
     "name": "stdout",
     "output_type": "stream",
     "text": [
      "Hello world!\n",
      "This is the traditional first statement in any new coding language\n"
     ]
    }
   ],
   "source": [
    "# This is code. The 'pound' sign at the start (#) means this is a comment that will be ignored\n",
    "# Click on this box, then click the 'play' symbol above to run the code\n",
    "!echo 'Hello world!' # echo prints out the text that follows\n",
    "!echo 'This is the traditional first statement in any new coding language'"
   ]
  },
  {
   "cell_type": "markdown",
   "metadata": {},
   "source": [
    "In the statement above, the '!' at the start tells Jupyter to run this on the command line rather than Python  \n",
    "Here's some useful instructions for using the command line:"
   ]
  },
  {
   "cell_type": "code",
   "execution_count": 12,
   "metadata": {},
   "outputs": [],
   "source": [
    "# Click on this box, then click the 'play' symbol above to run the code\n",
    "!open UNIX_Basics_2020.pdf # 'open' opens files, just like double clicking on them"
   ]
  },
  {
   "cell_type": "markdown",
   "metadata": {},
   "source": [
    "**For Mac users (PC users see next box)**  \n",
    "There is nothing magical about Jupyter, it's mostly running programs that exist on your Mac. For example, the command below should open 'terminal', which is your Mac's command line tool:"
   ]
  },
  {
   "cell_type": "code",
   "execution_count": 13,
   "metadata": {},
   "outputs": [],
   "source": [
    "# Click on this box, then click the 'play' symbol above to run the code\n",
    "!open /Applications/Utilities/Terminal.app # 'open' also opens programs, like terminal"
   ]
  },
  {
   "cell_type": "markdown",
   "metadata": {},
   "source": [
    "**For PC users**  \n",
    "Jupyter is essentially magic, running programs that most PC users can only dream of. Here are some resources that can help you run similar tools outside of Jupyter (though we've only tested the last one):  \n",
    "- [Window Terminal (Preview)](https://www.microsoft.com/en-us/p/windows-terminal-preview/9n0dx20hk701?ranMID=24542&ranEAID=TnL5HPStwNw&ranSiteID=TnL5HPStwNw-UDWMLG8.vwB2U4dqg2Flhw&epi=TnL5HPStwNw-UDWMLG8.vwB2U4dqg2Flhw&irgwc=1&OCID=AID681541_aff_7593_1243925&tduid=%28ir__zlyl9dwgqkkfr3dlkk0sohzx0m2xj1uvbfrd6e0v00%29%287593%29%281243925%29%28TnL5HPStwNw-UDWMLG8.vwB2U4dqg2Flhw%29%28%29&irclickid=_zlyl9dwgqkkfr3dlkk0sohzx0m2xj1uvbfrd6e0v00&activetab=pivot%3Aoverviewtab)  \n",
    "- [Cygwin](https://www.cygwin.com)  \n",
    "- [Linux](https://www.linux.org/pages/download/)  \n",
    "- [If you can cope without a touchscreen](https://www.apple.com/mac)"
   ]
  },
  {
   "cell_type": "markdown",
   "metadata": {},
   "source": [
    "**Ok, let's learn some UNIX stuff!**  \n",
    "Here we're going to run a command to create the lesson"
   ]
  },
  {
   "cell_type": "code",
   "execution_count": 7,
   "metadata": {},
   "outputs": [
    {
     "name": "stdout",
     "output_type": "stream",
     "text": [
      "Running some Perl code; it feels dusty\n"
     ]
    }
   ],
   "source": [
    "# Click on this box, then click the 'play' symbol above to run the code\n",
    "!perl treasureHunt_UNIX.pl # 'perl' is an ancient (but effective) coding language; don't worry we'll move to Python later"
   ]
  },
  {
   "cell_type": "markdown",
   "metadata": {},
   "source": [
    "Now we need to move from this lovely notebook into the UNIX terminal. Press '**File**', top left, then '**New Launcher**'. Under '**Other**', at the bottom, press '**Terminal**' and look for a clue. You can use the **UNIX_Basic_2020.pdf** that we opened above to help you look for clues and fine them. A hint: 'ls' and 'less'. Good luck. We'll see you later. Maybe..."
   ]
  },
  {
   "cell_type": "markdown",
   "metadata": {},
   "source": [
    "If it goes wrong, like so many life decisions, you can reset by running the command below, unlike many life decisions:"
   ]
  },
  {
   "cell_type": "code",
   "execution_count": 15,
   "metadata": {},
   "outputs": [
    {
     "name": "stdout",
     "output_type": "stream",
     "text": [
      "Deleting stuff. I once met The Dude in that prostheticShop. I have these memories from my life. None of them happened. What does that mean?\n",
      "Running some Perl code; it feels dusty\n"
     ]
    }
   ],
   "source": [
    "# Click on this box, then click the 'play' symbol above to run the code\n",
    "!perl cleanUp.pl\n",
    "!perl treasureHunt_UNIX.pl"
   ]
  },
  {
   "cell_type": "code",
   "execution_count": null,
   "metadata": {},
   "outputs": [],
   "source": []
  }
 ],
 "metadata": {
  "kernelspec": {
   "display_name": "Python 3",
   "language": "python",
   "name": "python3"
  },
  "language_info": {
   "codemirror_mode": {
    "name": "ipython",
    "version": 3
   },
   "file_extension": ".py",
   "mimetype": "text/x-python",
   "name": "python",
   "nbconvert_exporter": "python",
   "pygments_lexer": "ipython3",
   "version": "3.7.4"
  }
 },
 "nbformat": 4,
 "nbformat_minor": 4
}
